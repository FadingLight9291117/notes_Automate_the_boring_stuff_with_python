{
 "cells": [
  {
   "cell_type": "markdown",
   "metadata": {},
   "source": [
    "# 第九章 组织文件"
   ]
  },
  {
   "cell_type": "markdown",
   "metadata": {},
   "source": [
    "## 1. shutil模块\n",
    "\n",
    "或称为shell工具，复制、移动、改名或删除文件"
   ]
  },
  {
   "cell_type": "markdown",
   "metadata": {},
   "source": [
    "### 1.1 复制文件和文件夹\n",
    "\n",
    "shutil.copy(source, destination)\n",
    "\n",
    "shutil.copytree() # 复制文件夹"
   ]
  },
  {
   "cell_type": "markdown",
   "metadata": {},
   "source": [
    "### 1.2 移动与改名\n",
    "\n",
    "shutil.move() # 即可移动又可改名"
   ]
  },
  {
   "cell_type": "markdown",
   "metadata": {},
   "source": [
    "### 1.3 永久删除文件和文件夹\n",
    "\n",
    "os.unlink() # 删除path处的文件\n",
    "\n",
    "os.rmdir(path) # 删除空文件夹\n",
    "\n",
    "shutil.rmtree() # 删除所有文件及文件夹"
   ]
  },
  {
   "cell_type": "markdown",
   "metadata": {},
   "source": [
    "### 1.4 用send2trash模块安全删除\n",
    "\n",
    "> 第三方库\n",
    "\n",
    "- send2trash.send2trash() # 发送到回收站\n",
    "- 不能从中回复文件"
   ]
  },
  {
   "cell_type": "markdown",
   "metadata": {},
   "source": [
    "## 2. 遍历目录树\n",
    "\n",
    "os.walk()"
   ]
  },
  {
   "cell_type": "code",
   "execution_count": null,
   "metadata": {
    "tags": []
   },
   "outputs": [],
   "source": [
    "import os\n",
    "\n",
    "for folderName, subfolders, filenames in os.walk('项目'):\n",
    "    print('The current folder is ' + folderName)\n",
    "    print()\n",
    "    for subfolder in subfolders:\n",
    "        print('\\tSUBFOLDER OF ' + folderName + ': ' + subfolder)\n",
    "    for filename in filenames:\n",
    "        print('\\tFILE INSIDE ' + folderName + ': ' + filename)\n",
    "    print('\\n')"
   ]
  },
  {
   "cell_type": "markdown",
   "metadata": {},
   "source": [
    "## 3. 用zipfile模块压缩文件"
   ]
  },
  {
   "cell_type": "markdown",
   "metadata": {},
   "source": [
    "### 3.1 读取ZIP文件"
   ]
  },
  {
   "cell_type": "code",
   "execution_count": null,
   "metadata": {},
   "outputs": [],
   "source": [
    "import os\n",
    "import zipfile\n",
    "\n",
    "exampleZip = zipfile.ZipFile('./files/test.zip') # 创建ZipFile对象\n",
    "exampleZip.namelist()"
   ]
  },
  {
   "cell_type": "code",
   "execution_count": null,
   "metadata": {},
   "outputs": [],
   "source": [
    "spamInfo = exampleZip.getinfo('test.txt') # 返回一个ZipInfo对象\n",
    "\n",
    "spamInfo.file_size # 原文件大小"
   ]
  },
  {
   "cell_type": "code",
   "execution_count": null,
   "metadata": {},
   "outputs": [],
   "source": [
    "spamInfo.compress_size # 压缩后大小"
   ]
  },
  {
   "cell_type": "code",
   "execution_count": null,
   "metadata": {},
   "outputs": [],
   "source": [
    "exampleZip.close()"
   ]
  },
  {
   "cell_type": "markdown",
   "metadata": {},
   "source": [
    "### 3.2 从ZIP文件中解压"
   ]
  },
  {
   "cell_type": "code",
   "execution_count": null,
   "metadata": {
    "tags": []
   },
   "outputs": [],
   "source": [
    "import os, zipfile\n",
    "\n",
    "exampleZip = zipfile.ZipFile('./files/test.zip')\n",
    "exampleZip.extractall('./files/') # 默认解压到当前目录, 可以传递一个路径"
   ]
  },
  {
   "cell_type": "code",
   "execution_count": null,
   "metadata": {},
   "outputs": [],
   "source": [
    "exampleZip.extract('test.c', './files') # 解压单个文件,第二个参数可指定路径"
   ]
  },
  {
   "cell_type": "code",
   "execution_count": null,
   "metadata": {},
   "outputs": [],
   "source": [
    "exampleZip.close()"
   ]
  },
  {
   "cell_type": "markdown",
   "metadata": {},
   "source": [
    "### 3.3 创建和添加到ZIP文件\n",
    "\n",
    "**创建ZIP文件**"
   ]
  },
  {
   "cell_type": "code",
   "execution_count": null,
   "metadata": {},
   "outputs": [],
   "source": [
    "import zipfile\n",
    "\n",
    "newZip = zipfile.ZipFile('./files/new.zip', 'w') # 创建zip，必须以“写模式”打开ZipFile对象\n",
    "newZip.write('./9.组织文件.ipynb', compress_type=zipfile.ZIP_DEFLATED) # 第二个参数是压缩类型\n",
    "newZip.write('./8.读写文件.ipynb', compress_type=zipfile.ZIP_DEFLATED)\n",
    "newZip.close()"
   ]
  },
  {
   "cell_type": "markdown",
   "metadata": {},
   "source": [
    "## 4. 实践项目"
   ]
  },
  {
   "cell_type": "markdown",
   "metadata": {},
   "source": [
    "### 4.1 选择性拷贝"
   ]
  },
  {
   "cell_type": "code",
   "execution_count": null,
   "metadata": {
    "tags": []
   },
   "outputs": [],
   "source": [
    "'''\n",
    "遍历一个文件夹，将该文件夹中指定扩展名的文件拷贝到新文件夹\n",
    "endswith()判断后缀名, os.path.splitext()获取后缀名\n",
    "'''\n",
    "\n",
    "import os, shutil\n",
    "\n",
    "def moveToFile(source, destination, suffix):\n",
    "    # make sure the source is absolution\n",
    "    source = os.path.abspath(source)\n",
    "\n",
    "    # move all files with suffix to destination\n",
    "    for folderName, subfolders, filenames in os.walk(source):\n",
    "        for filename in filenames:\n",
    "            if filename.endswith(suffix):\n",
    "                print('Moving {}\\nfrom {}\\nto {}...'.format(filename, folderName, os.path.abspath(destination)))\n",
    "                shutil.move(os.path.join(folderName, filename), os.path.join(destination, filename))\n",
    "\n",
    "# test\n",
    "moveToFile('./项目', './', '.txt')"
   ]
  },
  {
   "cell_type": "markdown",
   "metadata": {},
   "source": [
    "### 4.2 删除不需要的文件"
   ]
  },
  {
   "cell_type": "code",
   "execution_count": 11,
   "metadata": {
    "tags": []
   },
   "outputs": [],
   "source": [
    "'''\n",
    "编写一个程序，遍历一个目录树，查找特别大的文件或文件夹，比方说，超过\n",
    "100MB 的文件（回忆一下，要获得文件的大小，可以使用 os 模块的os.path.getsize()）。\n",
    "将这些文件的绝对路径打印到屏幕上。\n",
    "'''\n",
    "\n",
    "import os\n",
    "\n",
    "def searchLargeFile(source):\n",
    "    # make sure source is absolution\n",
    "    source = os.path.abspath(source)\n",
    "    # search files of size > 100MB\n",
    "    for folderName, subfolders, filenames in os.walk(source):\n",
    "        for filename in filenames:\n",
    "            filename = os.path.join(folderName, filename)\n",
    "            if os.path.getsize(filename) > 100 * (2**20):\n",
    "                print(filename)\n",
    "\n",
    "searchLargeFile('')\n"
   ]
  },
  {
   "cell_type": "markdown",
   "metadata": {},
   "source": [
    "### 4.3 消除缺失的编号"
   ]
  },
  {
   "cell_type": "code",
   "execution_count": null,
   "metadata": {},
   "outputs": [],
   "source": [
    "'''\n",
    "编写一个程序，在一个文件夹中，找到所有带指定前缀的文件，诸如spam001.txt,\n",
    "spam002.txt 等，并定位缺失的编号（例如存在spam001.txt 和spam003.txt，但不存\n",
    "在spam002.txt）。让该程序对所有后面的文件改名，消除缺失的编号。\n",
    "作为附加的挑战，编写另一个程序，在一些连续编号的文件中，空出一些编号，\n",
    "以便加入新的文件.\n",
    "'''"
   ]
  }
 ],
 "metadata": {
  "kernelspec": {
   "display_name": "Python 3",
   "language": "python",
   "name": "python3"
  },
  "language_info": {
   "codemirror_mode": {
    "name": "ipython",
    "version": 3
   },
   "file_extension": ".py",
   "mimetype": "text/x-python",
   "name": "python",
   "nbconvert_exporter": "python",
   "pygments_lexer": "ipython3",
   "version": "3.7.6"
  }
 },
 "nbformat": 4,
 "nbformat_minor": 4
}
