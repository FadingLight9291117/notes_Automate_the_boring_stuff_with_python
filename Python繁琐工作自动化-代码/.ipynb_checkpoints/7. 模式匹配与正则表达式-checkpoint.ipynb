{
 "cells": [
  {
   "cell_type": "markdown",
   "metadata": {},
   "source": [
    "# 第七章 模式匹配与正则表达式"
   ]
  },
  {
   "cell_type": "markdown",
   "metadata": {},
   "source": [
    "## 1. 用正则表达式查找文本模式"
   ]
  },
  {
   "cell_type": "code",
   "execution_count": 1,
   "metadata": {
    "tags": []
   },
   "outputs": [
    {
     "name": "stdout",
     "output_type": "stream",
     "text": [
      "415-555-4242\n"
     ]
    }
   ],
   "source": [
    "import re\n",
    "\n",
    "# 1. 创建正则表达式对象\n",
    "phoneNumRegex = re.compile(r'\\d\\d\\d-\\d\\d\\d-\\d\\d\\d\\d') # \\d 表示一位数字\n",
    "\n",
    "# 2. 匹配Regex对象\n",
    "mo = phoneNumRegex.search('My number is 415-555-4242') # 返回一个Match对象\n",
    "print(mo.group())"
   ]
  },
  {
   "cell_type": "markdown",
   "metadata": {},
   "source": [
    "### Python正则表达式步骤\n",
    "\n",
    "1．用import re 导入正则表达式模块。\n",
    "\n",
    "2．用re.compile()函数创建一个Regex 对象（记得使用原始字符串）。\n",
    "\n",
    "3．向Regex 对象的search()方法传入想查找的字符串。它返回一个Match 对象。\n",
    "\n",
    "4．调用Match 对象的group()方法，返回实际匹配文本的字符串。"
   ]
  },
  {
   "cell_type": "markdown",
   "metadata": {},
   "source": [
    "## 2. 用正则表达式匹配更多模式"
   ]
  },
  {
   "cell_type": "markdown",
   "metadata": {},
   "source": [
    "### 2.1 用括号分组"
   ]
  },
  {
   "cell_type": "code",
   "execution_count": 2,
   "metadata": {},
   "outputs": [
    {
     "data": {
      "text/plain": [
       "'425'"
      ]
     },
     "execution_count": 2,
     "metadata": {},
     "output_type": "execute_result"
    }
   ],
   "source": [
    "import re\n",
    "\n",
    "phoneNumberRegex = re.compile(r'(\\d\\d\\d)-(\\d\\d\\d)-(\\d\\d\\d\\d)') # 用括号分组\n",
    "mo = phoneNumberRegex.search('My number is 425-666-4521')\n",
    "mo.group(1) # 第一对括号是第一组"
   ]
  },
  {
   "cell_type": "code",
   "execution_count": 3,
   "metadata": {},
   "outputs": [
    {
     "data": {
      "text/plain": [
       "'425-666-4521'"
      ]
     },
     "execution_count": 3,
     "metadata": {},
     "output_type": "execute_result"
    }
   ],
   "source": [
    "mo.group(0) # 或group()匹配整个文本"
   ]
  },
  {
   "cell_type": "code",
   "execution_count": 4,
   "metadata": {},
   "outputs": [
    {
     "data": {
      "text/plain": [
       "('425', '666', '4521')"
      ]
     },
     "execution_count": 4,
     "metadata": {},
     "output_type": "execute_result"
    }
   ],
   "source": [
    "mo.groups() # groups() 一次获取所有分组"
   ]
  },
  {
   "cell_type": "markdown",
   "metadata": {},
   "source": [
    "**\\（ \\）转义匹配实际的括号字符**"
   ]
  },
  {
   "cell_type": "code",
   "execution_count": 5,
   "metadata": {},
   "outputs": [
    {
     "data": {
      "text/plain": [
       "'(123)'"
      ]
     },
     "execution_count": 5,
     "metadata": {},
     "output_type": "execute_result"
    }
   ],
   "source": [
    "phoneNumberRegex = re.compile(r'(\\(\\d\\d\\d\\)) (\\d\\d\\d-\\d\\d\\d\\d)') # \\( 和 \\)转义\n",
    "mo = phoneNumberRegex.search('My number is (123) 123-3245')\n",
    "mo.group(1)"
   ]
  },
  {
   "cell_type": "code",
   "execution_count": 6,
   "metadata": {},
   "outputs": [
    {
     "data": {
      "text/plain": [
       "'123-3245'"
      ]
     },
     "execution_count": 6,
     "metadata": {},
     "output_type": "execute_result"
    }
   ],
   "source": [
    "mo.group(2)"
   ]
  },
  {
   "cell_type": "markdown",
   "metadata": {},
   "source": [
    "### 2.2 用管道 | 匹配多个分组"
   ]
  },
  {
   "cell_type": "code",
   "execution_count": 7,
   "metadata": {},
   "outputs": [
    {
     "data": {
      "text/plain": [
       "'Batman'"
      ]
     },
     "execution_count": 7,
     "metadata": {},
     "output_type": "execute_result"
    }
   ],
   "source": [
    "import re\n",
    "\n",
    "heroRegex = re.compile(r'Batman|Tina Fey')\n",
    "mo1 = heroRegex.search('Batman and Tina Fey')\n",
    "mo1.group()"
   ]
  },
  {
   "cell_type": "code",
   "execution_count": 8,
   "metadata": {},
   "outputs": [
    {
     "data": {
      "text/plain": [
       "'Tina Fey'"
      ]
     },
     "execution_count": 8,
     "metadata": {},
     "output_type": "execute_result"
    }
   ],
   "source": [
    "mo2 = heroRegex.search('Tina Fey and Batman')\n",
    "mo2.group()"
   ]
  },
  {
   "cell_type": "markdown",
   "metadata": {},
   "source": [
    "**匹配多个模式中的一个**"
   ]
  },
  {
   "cell_type": "code",
   "execution_count": 9,
   "metadata": {},
   "outputs": [
    {
     "data": {
      "text/plain": [
       "'Batmobile'"
      ]
     },
     "execution_count": 9,
     "metadata": {},
     "output_type": "execute_result"
    }
   ],
   "source": [
    "batRegex = re.compile(r'Bat(man|mobile|copter|bat)')\n",
    "\n",
    "mo = batRegex.search('Batmobile lost a wheel')\n",
    "mo.group()"
   ]
  },
  {
   "cell_type": "code",
   "execution_count": 10,
   "metadata": {},
   "outputs": [
    {
     "data": {
      "text/plain": [
       "'mobile'"
      ]
     },
     "execution_count": 10,
     "metadata": {},
     "output_type": "execute_result"
    }
   ],
   "source": [
    "mo.group(1)"
   ]
  },
  {
   "cell_type": "markdown",
   "metadata": {},
   "source": [
    "### 2.3 ？实现可选匹配"
   ]
  },
  {
   "cell_type": "code",
   "execution_count": 11,
   "metadata": {},
   "outputs": [],
   "source": [
    "batRegex = re.compile(r'Bat(wo)?man') # 字符?表明它前面的分组是可选的"
   ]
  },
  {
   "cell_type": "code",
   "execution_count": 12,
   "metadata": {},
   "outputs": [
    {
     "data": {
      "text/plain": [
       "'Batman'"
      ]
     },
     "execution_count": 12,
     "metadata": {},
     "output_type": "execute_result"
    }
   ],
   "source": [
    "mo1 = batRegex.search(\"The Adventures of Batman\")\n",
    "mo1.group()"
   ]
  },
  {
   "cell_type": "code",
   "execution_count": 13,
   "metadata": {},
   "outputs": [
    {
     "data": {
      "text/plain": [
       "'Batwoman'"
      ]
     },
     "execution_count": 13,
     "metadata": {},
     "output_type": "execute_result"
    }
   ],
   "source": [
    "mo2 = batRegex.search(\"The Adventures of Batwoman\")\n",
    "mo2.group()"
   ]
  },
  {
   "cell_type": "markdown",
   "metadata": {},
   "source": [
    "### 2.3 用星号 * 匹配零次或多次"
   ]
  },
  {
   "cell_type": "code",
   "execution_count": 14,
   "metadata": {},
   "outputs": [
    {
     "data": {
      "text/plain": [
       "'Batwowoman'"
      ]
     },
     "execution_count": 14,
     "metadata": {},
     "output_type": "execute_result"
    }
   ],
   "source": [
    "batRegex = re.compile(r'Bat(wo)*man')\n",
    "\n",
    "mo1 = batRegex.search('The adventures of Batwowoman')\n",
    "mo1.group()"
   ]
  },
  {
   "cell_type": "code",
   "execution_count": 15,
   "metadata": {},
   "outputs": [
    {
     "data": {
      "text/plain": [
       "'Batman'"
      ]
     },
     "execution_count": 15,
     "metadata": {},
     "output_type": "execute_result"
    }
   ],
   "source": [
    "mo2 = batRegex.search('The advantures of Batman')\n",
    "mo2.group()"
   ]
  },
  {
   "cell_type": "markdown",
   "metadata": {},
   "source": [
    "### 2.4 用加号 + 匹配一次或多次"
   ]
  },
  {
   "cell_type": "code",
   "execution_count": 16,
   "metadata": {},
   "outputs": [
    {
     "data": {
      "text/plain": [
       "'Batmobile'"
      ]
     },
     "execution_count": 16,
     "metadata": {},
     "output_type": "execute_result"
    }
   ],
   "source": [
    "batRegex = re.compile(r'Bat(wo)+man')\n",
    "\n",
    "mo1 = batRegex.search('The Advantage of Batwoman')\n",
    "mo.group()"
   ]
  },
  {
   "cell_type": "code",
   "execution_count": 17,
   "metadata": {
    "tags": []
   },
   "outputs": [
    {
     "name": "stdout",
     "output_type": "stream",
     "text": [
      "None\n"
     ]
    }
   ],
   "source": [
    "mo2 = batRegex.search('The Advantage of Batman')\n",
    "print(mo2)"
   ]
  },
  {
   "cell_type": "markdown",
   "metadata": {},
   "source": [
    "### 2.5 用花括号 {} 匹配特定次数"
   ]
  },
  {
   "cell_type": "code",
   "execution_count": 18,
   "metadata": {},
   "outputs": [
    {
     "data": {
      "text/plain": [
       "'HaHaHa'"
      ]
     },
     "execution_count": 18,
     "metadata": {},
     "output_type": "execute_result"
    }
   ],
   "source": [
    "haRegex = re.compile(r'(Ha){3}')\n",
    "\n",
    "mo = haRegex.search('HaHaHa')\n",
    "mo.group()"
   ]
  },
  {
   "cell_type": "markdown",
   "metadata": {},
   "source": [
    "**还可以指定范围** {m,n}"
   ]
  },
  {
   "cell_type": "code",
   "execution_count": 19,
   "metadata": {},
   "outputs": [
    {
     "data": {
      "text/plain": [
       "'HaHa'"
      ]
     },
     "execution_count": 19,
     "metadata": {},
     "output_type": "execute_result"
    }
   ],
   "source": [
    "haRegex = re.compile(r'(Ha){1,3}') # {,3} {3,}\n",
    "\n",
    "mo = haRegex.search('HaHa')\n",
    "mo.group()"
   ]
  },
  {
   "cell_type": "markdown",
   "metadata": {},
   "source": [
    "## 3. 贪心和非贪心匹配"
   ]
  },
  {
   "cell_type": "markdown",
   "metadata": {},
   "source": [
    "- Python正则表达式默认“贪心”，即最长匹配原则\n",
    "- “非贪心”版本在花括号后加？"
   ]
  },
  {
   "cell_type": "code",
   "execution_count": 20,
   "metadata": {},
   "outputs": [
    {
     "data": {
      "text/plain": [
       "'HaHaHa'"
      ]
     },
     "execution_count": 20,
     "metadata": {},
     "output_type": "execute_result"
    }
   ],
   "source": [
    "nongreedyHaRegex = re.compile(r'(Ha){3,5}?') # {}后加？非贪心匹配\n",
    "\n",
    "mo = nongreedyHaRegex.search('HaHaHaHaHa')\n",
    "mo.group()"
   ]
  },
  {
   "cell_type": "markdown",
   "metadata": {},
   "source": [
    "**问号的两种含义完全无关**"
   ]
  },
  {
   "cell_type": "markdown",
   "metadata": {},
   "source": [
    "## 4. findall()方法\n",
    "search()返回的Match对象仅包含匹配的第一个字符串。\n",
    "\n",
    "而findall()返回所有匹配成功的字符串。\n",
    "\n",
    "### 4.1 无分组"
   ]
  },
  {
   "cell_type": "code",
   "execution_count": 21,
   "metadata": {},
   "outputs": [
    {
     "data": {
      "text/plain": [
       "['123-422-1234', '532-234-1342']"
      ]
     },
     "execution_count": 21,
     "metadata": {},
     "output_type": "execute_result"
    }
   ],
   "source": [
    "phoneNumRegex = re.compile(r'\\d\\d\\d-\\d\\d\\d-\\d\\d\\d\\d') # has no group\n",
    "phoneNumRegex.findall('Cell: 123-422-1234 Work: 532-234-1342') # findall()"
   ]
  },
  {
   "cell_type": "markdown",
   "metadata": {},
   "source": [
    "### 4.2 有分组\n",
    "返回元组列表"
   ]
  },
  {
   "cell_type": "code",
   "execution_count": 22,
   "metadata": {},
   "outputs": [
    {
     "data": {
      "text/plain": [
       "[('123', '532', '2341'), ('123', '542', '3242')]"
      ]
     },
     "execution_count": 22,
     "metadata": {},
     "output_type": "execute_result"
    }
   ],
   "source": [
    "phoneNumRegex = re.compile(r'(\\d\\d\\d)-(\\d\\d\\d)-(\\d\\d\\d\\d)') # has group\n",
    "phoneNumRegex.findall('Cell: 123-532-2341 Work: 123-542-3242') # final()"
   ]
  },
  {
   "cell_type": "markdown",
   "metadata": {},
   "source": [
    "## 5. 字符分类"
   ]
  },
  {
   "cell_type": "markdown",
   "metadata": {},
   "source": [
    "- \\d：匹配所有数字\n",
    "- \\D：匹配所有非数字字符\n",
    "- \\w：匹配所有字母、数字、下划线\n",
    "- \\W：匹配所有非字母、数字、下划线\n",
    "- \\s：匹配空白字符（空格、制表符、换行符）\n",
    "- \\S：匹配非空白字符"
   ]
  },
  {
   "cell_type": "markdown",
   "metadata": {},
   "source": [
    "## 6. 建立自己的字符分类\n",
    "用方括号[]定义自己的字符分类"
   ]
  },
  {
   "cell_type": "code",
   "execution_count": 23,
   "metadata": {},
   "outputs": [
    {
     "data": {
      "text/plain": [
       "['o', 'o', 'o', 'e', 'a', 'a', 'o', 'o', 'A', 'O', 'O']"
      ]
     },
     "execution_count": 23,
     "metadata": {},
     "output_type": "execute_result"
    }
   ],
   "source": [
    "vowelRegex = re.compile(r'[aeiouAEIOU]')\n",
    "vowelRegex.findall('RoboCop eats baby food. BABY FOOD.')"
   ]
  },
  {
   "cell_type": "markdown",
   "metadata": {},
   "source": [
    "**短横杠表示字母和数字的范围**"
   ]
  },
  {
   "cell_type": "code",
   "execution_count": 24,
   "metadata": {},
   "outputs": [
    {
     "data": {
      "text/plain": [
       "['M', 'y', 'n', 'u', 'm', 'b', 'e', 'r', 'i', 's', '1', '2', '3']"
      ]
     },
     "execution_count": 24,
     "metadata": {},
     "output_type": "execute_result"
    }
   ],
   "source": [
    "rangeRegex = re.compile(r'[a-zA-Z0-9]')\n",
    "rangeRegex.findall('My number is 123.')"
   ]
  },
  {
   "cell_type": "markdown",
   "metadata": {},
   "source": [
    "**插入符号 ^ 匹配非此字符类中的字符**"
   ]
  },
  {
   "cell_type": "code",
   "execution_count": 25,
   "metadata": {},
   "outputs": [
    {
     "data": {
      "text/plain": [
       "[' ', ' ', ' ', '.']"
      ]
     },
     "execution_count": 25,
     "metadata": {},
     "output_type": "execute_result"
    }
   ],
   "source": [
    "rangeRegex = re.compile(r'[^a-zA-Z0-9]')\n",
    "rangeRegex.findall('My number is 123.')"
   ]
  },
  {
   "cell_type": "markdown",
   "metadata": {},
   "source": [
    "## 7. 插入字符 ^ 和美元字符 $"
   ]
  },
  {
   "cell_type": "code",
   "execution_count": 26,
   "metadata": {},
   "outputs": [
    {
     "data": {
      "text/plain": [
       "'Hello'"
      ]
     },
     "execution_count": 26,
     "metadata": {},
     "output_type": "execute_result"
    }
   ],
   "source": [
    "# ^ 在开始处，表示匹配必须发生在文本开头\n",
    "\n",
    "beginsWithHello = re.compile(r'^Hello')\n",
    "m1 = beginsWithHello.search('Hello World!')\n",
    "m1.group()"
   ]
  },
  {
   "cell_type": "code",
   "execution_count": 27,
   "metadata": {},
   "outputs": [
    {
     "data": {
      "text/plain": [
       "'World!'"
      ]
     },
     "execution_count": 27,
     "metadata": {},
     "output_type": "execute_result"
    }
   ],
   "source": [
    "# $ 在结尾处，表示该字符串必须以这个正则表达式结尾\n",
    "\n",
    "endsWithWorld = re.compile(r'World!$')\n",
    "m2 = endsWithWorld.search('Hello World!')\n",
    "m2.group()"
   ]
  },
  {
   "cell_type": "markdown",
   "metadata": {},
   "source": [
    "## 8. 通配字符"
   ]
  },
  {
   "cell_type": "markdown",
   "metadata": {},
   "source": [
    "### 8.1  用 .* 匹配所有字符\n",
    ".* 将匹配除换行符以外的所有字符"
   ]
  },
  {
   "cell_type": "code",
   "execution_count": 28,
   "metadata": {},
   "outputs": [
    {
     "data": {
      "text/plain": [
       "'<To serve man>'"
      ]
     },
     "execution_count": 28,
     "metadata": {},
     "output_type": "execute_result"
    }
   ],
   "source": [
    "nongreedyRegex = re.compile(r'<.*?>') # ?表示使用非贪心模式匹配\n",
    "m1 = nongreedyRegex.search('<To serve man> for dinner.>')\n",
    "m1.group()\n"
   ]
  },
  {
   "cell_type": "code",
   "execution_count": 29,
   "metadata": {},
   "outputs": [
    {
     "data": {
      "text/plain": [
       "'<To serve man> for dinner.>'"
      ]
     },
     "execution_count": 29,
     "metadata": {},
     "output_type": "execute_result"
    }
   ],
   "source": [
    "nongreedyRegex = re.compile(r'<.*>')\n",
    "m2 = nongreedyRegex.search('<To serve man> for dinner.>')\n",
    "m2.group()"
   ]
  },
  {
   "cell_type": "markdown",
   "metadata": {},
   "source": [
    "### 8.2 用句点字符匹配换行符"
   ]
  },
  {
   "cell_type": "code",
   "execution_count": 30,
   "metadata": {},
   "outputs": [
    {
     "data": {
      "text/plain": [
       "'Serve the public trust.\\nProtect the innocent.\\nUphold the law.'"
      ]
     },
     "execution_count": 30,
     "metadata": {},
     "output_type": "execute_result"
    }
   ],
   "source": [
    "noNewlineRegex = re.compile(r'.*', re.DOTALL) # 第二个参数re.DOTALL\n",
    "noNewlineRegex.search('Serve the public trust.\\nProtect the innocent.\\nUphold the law.').group()"
   ]
  },
  {
   "cell_type": "markdown",
   "metadata": {},
   "source": [
    "## 9. 正则表达式符号总结\n",
    "- ?匹配零次或一次前面的分组。\n",
    "- *匹配零次或多次前面的分组。\n",
    "- +匹配一次或多次前面的分组。\n",
    "- {n}匹配n 次前面的分组。\n",
    "- {n,}匹配n 次或更多前面的分组。\n",
    "- {,m}匹配零次到m 次前面的分组。\n",
    "- {n,m}匹配至少n 次、至多m 次前面的分组。\n",
    "- {n,m}?或*?或+?对前面的分组进行非贪心匹配。\n",
    "- ^spam 意味着字符串必须以spam 开始。\n",
    "- spam$意味着字符串必须以spam 结束。\n",
    "- .匹配所有字符，换行符除外。\n",
    "- \\d、\\w 和\\s 分别匹配数字、单词和空格。\n",
    "- \\D、\\W 和\\S 分别匹配出数字、单词和空格外的所有字符。\n",
    "- \\[abc\\]匹配方括号内的任意字符（诸如a、b 或c）。\n",
    "- \\[^abc\\]匹配不在方括号内的任意字符。"
   ]
  },
  {
   "cell_type": "markdown",
   "metadata": {},
   "source": [
    "## 10. 不区分大小写的匹配\n",
    "re.compile() 传入第二个参数re.I或者re.IGNORECASE"
   ]
  },
  {
   "cell_type": "code",
   "execution_count": 31,
   "metadata": {},
   "outputs": [
    {
     "data": {
      "text/plain": [
       "'Robocop'"
      ]
     },
     "execution_count": 31,
     "metadata": {},
     "output_type": "execute_result"
    }
   ],
   "source": [
    "regex1 = re.compile(r'robocop', re.IGNORECASE) # 或者re.I\n",
    "m = regex1.search('Robocop is part man, part machine, all cop.')\n",
    "m.group()"
   ]
  },
  {
   "cell_type": "markdown",
   "metadata": {},
   "source": [
    "## 11. sub()方法取代字符串"
   ]
  },
  {
   "cell_type": "code",
   "execution_count": 32,
   "metadata": {},
   "outputs": [
    {
     "data": {
      "text/plain": [
       "'CENSORED the secret documents to CENSORED.'"
      ]
     },
     "execution_count": 32,
     "metadata": {},
     "output_type": "execute_result"
    }
   ],
   "source": [
    "nameRegex = re.compile(r'Agent \\w+')\n",
    "nameRegex.sub('CENSORED', 'Agent gave the secret documents to Agent Bob.') # 第一个参数用于取代发现的匹配"
   ]
  },
  {
   "cell_type": "code",
   "execution_count": 33,
   "metadata": {},
   "outputs": [
    {
     "data": {
      "text/plain": [
       "'A**** told C**** that E**** knew B**** was a double agent.'"
      ]
     },
     "execution_count": 33,
     "metadata": {},
     "output_type": "execute_result"
    }
   ],
   "source": [
    "agentNameRegex = re.compile(r'Agent (\\w)\\w*')\n",
    "agentNameRegex.sub(r'\\1****', 'Agent Alice told Agent Carol that Agent Eve knew Agent Bob was a double agent.') # \\1 表示匹配到第一个分组"
   ]
  },
  {
   "cell_type": "markdown",
   "metadata": {},
   "source": [
    "## 12. 复杂的正则表达式管理\n",
    "\n",
    "re.VERBOSE 忽略正则表达式中的空白符和注释\n",
    "\n",
    "使用'''和注释使正则表达式更可读"
   ]
  },
  {
   "cell_type": "code",
   "execution_count": 34,
   "metadata": {},
   "outputs": [],
   "source": [
    "phoneRegex = re.compile(r'''(\n",
    "    (\\d{3}|\\(\\d{3}\\))?              # area code\n",
    "    (\\s|-|\\.)?                      # separator\n",
    "    \\d{3}                           # first 3 digits\n",
    "    (\\s|-|\\.)                       # separator\n",
    "    \\d{4}                           # last 4 digits\n",
    "    (\\s*(ext|x|ext.)\\s*\\d{2,5})?    # extension\n",
    ")''', re.VERBOSE)"
   ]
  },
  {
   "cell_type": "markdown",
   "metadata": {},
   "source": [
    "## 13. 组合使用re.IGNORECASE、re.DOTALL和re.VERBOSE"
   ]
  },
  {
   "cell_type": "code",
   "execution_count": 35,
   "metadata": {},
   "outputs": [],
   "source": [
    "someRegex = re.compile(r'foo', re.IGNORECASE | re.DOTALL | re.VERBOSE)"
   ]
  },
  {
   "cell_type": "markdown",
   "metadata": {},
   "source": [
    "## 14. 项目：电话号码和Email地址提取程序项目：电话号码和Email地址提取程序"
   ]
  },
  {
   "cell_type": "code",
   "execution_count": 36,
   "metadata": {
    "tags": []
   },
   "outputs": [
    {
     "name": "stdout",
     "output_type": "stream",
     "text": [
      "No phone numbers or email address found.\n"
     ]
    }
   ],
   "source": [
    "#! python3\n",
    "# phoneAndEmail.py - Finds phone numbers and email addresses on the clipboard.\n",
    "\n",
    "###########################################\n",
    "#   7.15 项目：电话号码和Email地址提取程序  #\n",
    "###########################################\n",
    "\n",
    "import pyperclip\n",
    "import re\n",
    "\n",
    "# create phone regex\n",
    "phoneRegex = re.compile(r'''(\n",
    "    (\\d{3}|\\(\\d{3}\\))              # area code\n",
    "    (\\s|-|\\.)?                      # separator\n",
    "    (\\d{3})                         # first 3 digits\n",
    "    (\\s|-|\\.)?                      # separator\n",
    "    (\\d{4})                         # last 4 digits\n",
    "    (\\s*(ext|x|ext.)\\s*(\\d{2,5}))?  # extension\n",
    ")''', re.VERBOSE)\n",
    "\n",
    "# create email regex\n",
    "emailRegex = re.compile(r'''(\n",
    "    [a-zA-Z0-9._%+-]+       # usename\n",
    "    @                       # @ symbol\n",
    "    [a-zA-Z0-9.-]+          # domain name\n",
    "    (\\.[a-zA-Z]{2,4})       # dot-something\n",
    ")''', re.VERBOSE)\n",
    "\n",
    "# find matches in clipboard text.\n",
    "text = pyperclip.paste()\n",
    "matches = []\n",
    "for group in phoneRegex.findall(text):\n",
    "    phone = '-'.join([group[1], group[3], group[5]])\n",
    "    if group[8] != '':\n",
    "        phone += ' x' + group[8]\n",
    "    matches.append(phone)\n",
    "\n",
    "for groups in emailRegex.findall(text):\n",
    "    matches.append(groups[0])\n",
    "\n",
    "# copy results to the clipboard\n",
    "if len(matches) > 0:\n",
    "    pyperclip.copy('\\n'.join(matches))\n",
    "else:\n",
    "    print(\"No phone numbers or email address found.\")"
   ]
  },
  {
   "cell_type": "markdown",
   "metadata": {},
   "source": [
    "## 15. 实践项目\n",
    "1. 强口令检测"
   ]
  },
  {
   "cell_type": "code",
   "execution_count": 37,
   "metadata": {},
   "outputs": [
    {
     "data": {
      "text/plain": [
       "True"
      ]
     },
     "execution_count": 37,
     "metadata": {},
     "output_type": "execute_result"
    }
   ],
   "source": [
    "'''\n",
    "写一个函数，它使用正则表达式，确保传入的口令字符串是强口令。强口令的\n",
    "定义是：长度不少于8 个字符，同时包含大写和小写字符，至少有一位数字。你可\n",
    "能需要用多个正则表达式来测试该字符串，以保证它的强度。\n",
    "'''\n",
    "\n",
    "import re\n",
    "\n",
    "def isStrongPwd(s):\n",
    "    # 保证8个字符\n",
    "    regex1 = re.compile(r'^(\\S){8,}$')\n",
    "    # 保证包含大写和小写字母\n",
    "    regex2 = re.compile(r'([A-Z]+.*[a-z]+)|([a-z]+.*[A-Z]+)')\n",
    "    # 保证包含数字\n",
    "    regex3 = re.compile(r'[0-9]+')\n",
    "    \n",
    "    return True if regex1.search(s) and regex2.search(s) and regex3.search(s) else False\n",
    "\n",
    "s = '231ASDsaA'\n",
    "isStrongPwd(s)"
   ]
  },
  {
   "cell_type": "markdown",
   "metadata": {},
   "source": [
    "2. strip()的正则表达式版本"
   ]
  },
  {
   "cell_type": "code",
   "execution_count": 38,
   "metadata": {},
   "outputs": [
    {
     "data": {
      "text/plain": [
       "'=asd='"
      ]
     },
     "execution_count": 38,
     "metadata": {},
     "output_type": "execute_result"
    }
   ],
   "source": [
    "'''\n",
    "写一个函数，它接受一个字符串，做的事情和strip()字符串方法一样。如果只\n",
    "传入了要去除的字符串，没有其他参数，那么就从该字符串首尾去除空白字符。否\n",
    "则，函数第二个参数指定的字符将从该字符串中去除。\n",
    "'''\n",
    "\n",
    "def newStrip(text, c=' '):\n",
    "    if c == '':\n",
    "        return text\n",
    "    import re\n",
    "    regex = re.compile(r'^{}*|{}*$'.format(c,c), re.DOTALL) # 使用空白代替匹配到的字符\n",
    "    return regex.sub('', text)\n",
    "\n",
    "newStrip(\" =asd=  \", ' ')"
   ]
  },
  {
   "cell_type": "code",
   "execution_count": null,
   "metadata": {},
   "outputs": [],
   "source": []
  }
 ],
 "metadata": {
  "kernelspec": {
   "display_name": "Python 3",
   "language": "python",
   "name": "python3"
  },
  "language_info": {
   "codemirror_mode": {
    "name": "ipython",
    "version": 3
   },
   "file_extension": ".py",
   "mimetype": "text/x-python",
   "name": "python",
   "nbconvert_exporter": "python",
   "pygments_lexer": "ipython3",
   "version": "3.7.6"
  }
 },
 "nbformat": 4,
 "nbformat_minor": 4
}
