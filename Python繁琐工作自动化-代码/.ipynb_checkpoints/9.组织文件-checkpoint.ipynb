{
 "cells": [
  {
   "cell_type": "markdown",
   "metadata": {},
   "source": [
    "# 第九章 组织文件"
   ]
  },
  {
   "cell_type": "markdown",
   "metadata": {},
   "source": [
    "## 1. shutil模块\n",
    "\n",
    "或称为shell工具，复制、移动、改名或删除文件"
   ]
  },
  {
   "cell_type": "markdown",
   "metadata": {},
   "source": [
    "### 1.1 复制文件和文件夹\n",
    "\n",
    "shutil.copy(source, destination)\n",
    "\n",
    "shutil.copytree() # 复制文件夹"
   ]
  },
  {
   "cell_type": "markdown",
   "metadata": {},
   "source": [
    "### 1.2 移动与改名\n",
    "\n",
    "shutil.move() # 即可移动又可改名"
   ]
  },
  {
   "cell_type": "markdown",
   "metadata": {},
   "source": [
    "### 1.3 永久删除文件和文件夹\n",
    "\n",
    "os.unlink() # 删除path处的文件\n",
    "\n",
    "os.rmdir(path) # 删除空文件夹\n",
    "\n",
    "shutil.rmtree() # 删除所有文件及文件夹"
   ]
  },
  {
   "cell_type": "markdown",
   "metadata": {},
   "source": [
    "### 1.4 用send2trash模块安全删除\n",
    "\n",
    "> 第三方库\n",
    "\n",
    "- send2trash.send2trash() # 发送到回收站\n",
    "- 不能从中回复文件"
   ]
  },
  {
   "cell_type": "markdown",
   "metadata": {},
   "source": [
    "## 2. 遍历目录树\n",
    "\n",
    "os.walk()"
   ]
  },
  {
   "cell_type": "code",
   "execution_count": 1,
   "metadata": {},
   "outputs": [
    {
     "name": "stdout",
     "output_type": "stream",
     "text": [
      "The current folder is 项目\n",
      "\n",
      "\tSUBFOLDER OF 项目: .ipynb_checkpoints\n",
      "\tSUBFOLDER OF 项目: files\n",
      "\tFILE INSIDE 项目: bulletPointAdder.py\n",
      "\tFILE INSIDE 项目: madLibs.py\n",
      "\tFILE INSIDE 项目: mcb.pyw\n",
      "\tFILE INSIDE 项目: phoneAndEmail.py\n",
      "\tFILE INSIDE 项目: pw.py\n",
      "\tFILE INSIDE 项目: randomQuizGenerator.py\n",
      "\n",
      "\n",
      "The current folder is 项目\\.ipynb_checkpoints\n",
      "\n",
      "\tFILE INSIDE 项目\\.ipynb_checkpoints: bulletPointAdder-checkpoint.py\n",
      "\tFILE INSIDE 项目\\.ipynb_checkpoints: madLibs-checkpoint.py\n",
      "\tFILE INSIDE 项目\\.ipynb_checkpoints: mcb-checkpoint.pyw\n",
      "\tFILE INSIDE 项目\\.ipynb_checkpoints: pw-checkpoint.py\n",
      "\tFILE INSIDE 项目\\.ipynb_checkpoints: randomQuizGenerator-checkpoint.py\n",
      "\n",
      "\n",
      "The current folder is 项目\\files\n",
      "\n",
      "\tFILE INSIDE 项目\\files: madLibs.txt\n",
      "\tFILE INSIDE 项目\\files: mcb.bak\n",
      "\tFILE INSIDE 项目\\files: mcb.dat\n",
      "\tFILE INSIDE 项目\\files: mcb.dir\n",
      "\n",
      "\n"
     ]
    }
   ],
   "source": [
    "import os\n",
    "\n",
    "for folderName, subfolders, filenames in os.walk('项目'):\n",
    "    print('The current folder is ' + folderName)\n",
    "    print()\n",
    "    for subfolder in subfolders:\n",
    "        print('\\tSUBFOLDER OF ' + folderName + ': ' + subfolder)\n",
    "    for filename in filenames:\n",
    "        print('\\tFILE INSIDE ' + folderName + ': ' + filename)\n",
    "    print('\\n')"
   ]
  },
  {
   "cell_type": "markdown",
   "metadata": {},
   "source": [
    "## 3. 用zipfile模块压缩文件"
   ]
  },
  {
   "cell_type": "markdown",
   "metadata": {},
   "source": [
    "### 3.1 读取ZIP文件"
   ]
  },
  {
   "cell_type": "code",
   "execution_count": 2,
   "metadata": {},
   "outputs": [
    {
     "data": {
      "text/plain": [
       "['test.txt', 'test.c']"
      ]
     },
     "execution_count": 2,
     "metadata": {},
     "output_type": "execute_result"
    }
   ],
   "source": [
    "import os\n",
    "import zipfile\n",
    "\n",
    "exampleZip = zipfile.ZipFile('./files/test.zip') # 创建ZipFile对象\n",
    "exampleZip.namelist()"
   ]
  },
  {
   "cell_type": "code",
   "execution_count": 3,
   "metadata": {},
   "outputs": [
    {
     "data": {
      "text/plain": [
       "0"
      ]
     },
     "execution_count": 3,
     "metadata": {},
     "output_type": "execute_result"
    }
   ],
   "source": [
    "spamInfo = exampleZip.getinfo('test.txt') # 返回一个ZipInfo对象\n",
    "\n",
    "spamInfo.file_size # 原文件大小"
   ]
  },
  {
   "cell_type": "code",
   "execution_count": 4,
   "metadata": {},
   "outputs": [
    {
     "data": {
      "text/plain": [
       "0"
      ]
     },
     "execution_count": 4,
     "metadata": {},
     "output_type": "execute_result"
    }
   ],
   "source": [
    "spamInfo.compress_size # 压缩后大小"
   ]
  },
  {
   "cell_type": "code",
   "execution_count": 5,
   "metadata": {},
   "outputs": [],
   "source": [
    "exampleZip.close()"
   ]
  },
  {
   "cell_type": "markdown",
   "metadata": {},
   "source": [
    "### 3.2 创建和添加到ZIP文件"
   ]
  },
  {
   "cell_type": "code",
   "execution_count": null,
   "metadata": {},
   "outputs": [],
   "source": []
  }
 ],
 "metadata": {
  "kernelspec": {
   "display_name": "Python 3",
   "language": "python",
   "name": "python3"
  },
  "language_info": {
   "codemirror_mode": {
    "name": "ipython",
    "version": 3
   },
   "file_extension": ".py",
   "mimetype": "text/x-python",
   "name": "python",
   "nbconvert_exporter": "python",
   "pygments_lexer": "ipython3",
   "version": "3.7.6"
  }
 },
 "nbformat": 4,
 "nbformat_minor": 4
}
