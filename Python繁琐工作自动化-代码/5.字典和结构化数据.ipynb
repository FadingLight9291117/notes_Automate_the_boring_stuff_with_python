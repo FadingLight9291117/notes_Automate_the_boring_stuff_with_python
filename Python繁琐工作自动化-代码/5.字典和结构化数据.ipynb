{
 "cells": [
  {
   "cell_type": "markdown",
   "metadata": {},
   "source": [
    "# 第五章 字典和结构化数据"
   ]
  },
  {
   "cell_type": "markdown",
   "metadata": {},
   "source": [
    "## 1. 字典"
   ]
  },
  {
   "cell_type": "code",
   "execution_count": 1,
   "metadata": {},
   "outputs": [
    {
     "name": "stdout",
     "output_type": "stream",
     "text": [
      "size\n",
      "color\n",
      "disposition\n"
     ]
    }
   ],
   "source": [
    "myCat = {'size': 'fat', 'color': 'gray', 'disposition': 'loud'}\n",
    "for key in myCat: # 返回的是键\n",
    "    print(key)"
   ]
  },
  {
   "cell_type": "markdown",
   "metadata": {},
   "source": [
    "### 1.1 keys()、values()、items()方法"
   ]
  },
  {
   "cell_type": "code",
   "execution_count": 3,
   "metadata": {},
   "outputs": [
    {
     "name": "stdout",
     "output_type": "stream",
     "text": [
      "size\n",
      "color\n",
      "disposition\n",
      "fat\n",
      "gray\n",
      "loud\n",
      "('size', 'fat')\n",
      "('color', 'gray')\n",
      "('disposition', 'loud')\n"
     ]
    }
   ],
   "source": [
    "myCat = {'size': 'fat', 'color': 'gray', 'disposition': 'loud'}\n",
    "\n",
    "for k in myCat.keys(): # keys()\n",
    "    print(k)\n",
    "\n",
    "for v in myCat.values(): # values()\n",
    "    print(v)\n",
    "\n",
    "for i in myCat.items(): # items()\n",
    "    print(i)"
   ]
  },
  {
   "cell_type": "markdown",
   "metadata": {},
   "source": [
    "### 1.2 检查字典中是否存在键或值"
   ]
  },
  {
   "cell_type": "code",
   "execution_count": 4,
   "metadata": {},
   "outputs": [
    {
     "name": "stdout",
     "output_type": "stream",
     "text": [
      "True\n",
      "False\n"
     ]
    }
   ],
   "source": [
    "myCat = {'size': 'fat', 'color': 'gray', 'disposition': 'loud'}\n",
    "\n",
    "print('color' in myCat.keys())\n",
    "print('gray' not in myCat.values())"
   ]
  },
  {
   "cell_type": "markdown",
   "metadata": {},
   "source": [
    "### 1.3 get()方法\n",
    "get()方法有两个参数：要取其值的键，和该键不存在时返回的值"
   ]
  },
  {
   "cell_type": "code",
   "execution_count": 2,
   "metadata": {},
   "outputs": [
    {
     "name": "stdout",
     "output_type": "stream",
     "text": [
      "0\n"
     ]
    }
   ],
   "source": [
    "myCat = {'size': 'fat', 'color': 'gray', 'disposition': 'loud'}\n",
    "\n",
    "a = myCat.get('eggs', 0) # eggs键不存在，返回0\n",
    "print(a)"
   ]
  },
  {
   "cell_type": "markdown",
   "metadata": {},
   "source": [
    "### 1.4 setdefault()方法\n",
    "setdefault()方法有两个参数，第一个参数是要检查的键；第二个参数，是如果该键不存在要设置的值。如果该键存在，返回该键的值。"
   ]
  },
  {
   "cell_type": "code",
   "execution_count": 6,
   "metadata": {},
   "outputs": [
    {
     "name": "stdout",
     "output_type": "stream",
     "text": [
      "a=black\n",
      "b=black\n"
     ]
    }
   ],
   "source": [
    "myCat = {'size': 'fat', 'disposition': 'loud'}\n",
    "a = myCat.setdefault('color', 'black')\n",
    "b = myCat.setdefault('color', 'gray')\n",
    "print('a=' + a)\n",
    "print('b=' + b)"
   ]
  },
  {
   "cell_type": "markdown",
   "metadata": {},
   "source": [
    "## 2. 美化打印\n",
    "pprint模块的pprint()和pformat()方法。美化打印字典。"
   ]
  },
  {
   "cell_type": "code",
   "execution_count": 12,
   "metadata": {},
   "outputs": [
    {
     "name": "stdout",
     "output_type": "stream",
     "text": [
      "{' ': 14,\n",
      " ',': 1,\n",
      " '.': 1,\n",
      " 'A': 1,\n",
      " 'I': 1,\n",
      " 'a': 4,\n",
      " 'b': 1,\n",
      " 'c': 3,\n",
      " 'd': 3,\n",
      " 'e': 5,\n",
      " 'g': 2,\n",
      " 'h': 3,\n",
      " 'i': 6,\n",
      " 'k': 2,\n",
      " 'l': 3,\n",
      " 'n': 4,\n",
      " 'o': 2,\n",
      " 'p': 1,\n",
      " 'r': 5,\n",
      " 's': 3,\n",
      " 't': 6,\n",
      " 'w': 2,\n",
      " 'y': 1}\n",
      "\n",
      "{' ': 14,\n",
      " ',': 1,\n",
      " '.': 1,\n",
      " 'A': 1,\n",
      " 'I': 1,\n",
      " 'a': 4,\n",
      " 'b': 1,\n",
      " 'c': 3,\n",
      " 'd': 3,\n",
      " 'e': 5,\n",
      " 'g': 2,\n",
      " 'h': 3,\n",
      " 'i': 6,\n",
      " 'k': 2,\n",
      " 'l': 3,\n",
      " 'n': 4,\n",
      " 'o': 2,\n",
      " 'p': 1,\n",
      " 'r': 5,\n",
      " 's': 3,\n",
      " 't': 6,\n",
      " 'w': 2,\n",
      " 'y': 1}\n"
     ]
    }
   ],
   "source": [
    "import pprint\n",
    "message = 'It was a bright cold day in  April, and the clocks were striking thirteen.'\n",
    "count = {}\n",
    "\n",
    "for c in message:\n",
    "    count.setdefault(c, 0)\n",
    "    count[c] += 1\n",
    "    \n",
    "pprint.pprint(count)\n",
    "print()\n",
    "a = pprint.pformat(count)\n",
    "print(a) # 同pprint.pprint()等价"
   ]
  },
  {
   "cell_type": "markdown",
   "metadata": {},
   "source": [
    "## 3. 实践项目"
   ]
  },
  {
   "cell_type": "markdown",
   "metadata": {},
   "source": [
    "### 3.1 好玩游戏的清单"
   ]
  },
  {
   "cell_type": "code",
   "execution_count": 17,
   "metadata": {},
   "outputs": [
    {
     "name": "stdout",
     "output_type": "stream",
     "text": [
      "Inventory:\n",
      "1 rope\n",
      "6 torch\n",
      "42 gold coin\n",
      "1 dagger\n",
      "12 arrow\n",
      "\n",
      "Total number of items: 62\n"
     ]
    }
   ],
   "source": [
    "def displayInventory(inventory):\n",
    "    print(\"Inventory:\")\n",
    "    item_total = 0\n",
    "    for k, v in inventory.items():\n",
    "        print(v, end=' ')\n",
    "        print(k)\n",
    "        item_total += v\n",
    "    print(\"\\nTotal number of items: %d\" % item_total)\n",
    "\n",
    "stuff = {'rope': 1, 'torch': 6, 'gold coin': 42, 'dagger': 1, 'arrow': 12}\n",
    "displayInventory(stuff)"
   ]
  },
  {
   "cell_type": "markdown",
   "metadata": {},
   "source": [
    "### 3.2 列表到字典的函数，针对好玩游戏物品清单"
   ]
  },
  {
   "cell_type": "code",
   "execution_count": 18,
   "metadata": {},
   "outputs": [
    {
     "name": "stdout",
     "output_type": "stream",
     "text": [
      "Inventory:\n",
      "45 gold coin\n",
      "1 rope\n",
      "1 dagger\n",
      "1 ruby\n",
      "\n",
      "Total number of items: 48\n"
     ]
    }
   ],
   "source": [
    "def addToInventory(inventory, addedItem):\n",
    "    for i in addedItem:\n",
    "        inventory.setdefault(i, 0)\n",
    "        inventory[i] += 1\n",
    "    return inventory\n",
    "\n",
    "def displayInventory(inventory):\n",
    "    print(\"Inventory:\")\n",
    "    item_total = 0\n",
    "    for k, v in inventory.items():\n",
    "        print(v, end=' ')\n",
    "        print(k)\n",
    "        item_total += v\n",
    "    print(\"\\nTotal number of items: %d\" % item_total)\n",
    "\n",
    "\n",
    "inv = {'gold coin': 42, 'rope': 1}\n",
    "dragonLoot = ['gold coin', 'dagger', 'gold coin', 'gold coin', 'ruby']\n",
    "inv = addToInventory(inv, dragonLoot)\n",
    "displayInventory(inv)"
   ]
  }
 ],
 "metadata": {
  "kernelspec": {
   "display_name": "Python 3",
   "language": "python",
   "name": "python3"
  },
  "language_info": {
   "codemirror_mode": {
    "name": "ipython",
    "version": 3
   },
   "file_extension": ".py",
   "mimetype": "text/x-python",
   "name": "python",
   "nbconvert_exporter": "python",
   "pygments_lexer": "ipython3",
   "version": "3.7.6"
  }
 },
 "nbformat": 4,
 "nbformat_minor": 4
}
